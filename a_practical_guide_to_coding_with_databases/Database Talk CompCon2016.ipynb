{
 "cells": [
  {
   "cell_type": "markdown",
   "metadata": {
    "nbpresent": {
     "id": "d5a2a550-211c-4c3f-a7e0-4fa375b7d420"
    },
    "slideshow": {
     "slide_type": "slide"
    }
   },
   "source": [
    "# A Practical Guide to Coding with Databases\n",
    "\n",
    "Betsy Alpert\n",
    "\n",
    "Console (console.to)\n",
    "\n",
    "\n",
    "\n",
    "@betsybookworm"
   ]
  },
  {
   "cell_type": "markdown",
   "metadata": {
    "slideshow": {
     "slide_type": "slide"
    }
   },
   "source": [
    "# What even is this talk\n",
    "I need to code things and use a database!\n",
    "* Where do I start\n",
    "* What do I use\n",
    "* What do I need to think about"
   ]
  },
  {
   "cell_type": "markdown",
   "metadata": {
    "nbpresent": {
     "id": "7306324c-b4e5-4949-9a6c-6653b4b80414"
    },
    "slideshow": {
     "slide_type": "slide"
    }
   },
   "source": [
    "# Which database?\n",
    "There are SO MANY"
   ]
  },
  {
   "cell_type": "markdown",
   "metadata": {
    "slideshow": {
     "slide_type": "subslide"
    }
   },
   "source": [
    "## Different databases for different purposes\n",
    "* Relational all-the-things\n",
    "* nosql ???\n",
    "* Time-series databases\n",
    "* Graph databases\n",
    "* many more..."
   ]
  },
  {
   "cell_type": "markdown",
   "metadata": {
    "slideshow": {
     "slide_type": "subslide"
    }
   },
   "source": [
    "# What's your favourite database?"
   ]
  },
  {
   "cell_type": "markdown",
   "metadata": {
    "slideshow": {
     "slide_type": "subslide"
    }
   },
   "source": [
    "# PostgreSQL aka postgres aka it's just nice\n",
    "Here's one I prepared earlier..."
   ]
  },
  {
   "cell_type": "markdown",
   "metadata": {
    "slideshow": {
     "slide_type": "slide"
    }
   },
   "source": [
    "# Which language are we going to use?"
   ]
  },
  {
   "cell_type": "markdown",
   "metadata": {
    "slideshow": {
     "slide_type": "subslide"
    }
   },
   "source": [
    "# Python aka Python 3 aka it's just nice\n",
    "But the concepts are the same across languages"
   ]
  },
  {
   "cell_type": "markdown",
   "metadata": {
    "nbpresent": {
     "id": "23578182-70a4-45d3-b48f-b05cdda95ffd"
    },
    "slideshow": {
     "slide_type": "slide"
    }
   },
   "source": [
    "# What now?\n",
    "Actually talk to the database what?"
   ]
  },
  {
   "cell_type": "markdown",
   "metadata": {
    "slideshow": {
     "slide_type": "subslide"
    }
   },
   "source": [
    "# Setting things up\n",
    "You need:\n",
    "* Your database\n",
    "* Your environments\n",
    "  * Development\n",
    "  * Where your system will live or how it will be distributed\n",
    "* A (good) way to get from one to the other\n",
    "  * Actual physical/network connection\n",
    "  * Database connection details"
   ]
  },
  {
   "cell_type": "code",
   "execution_count": null,
   "metadata": {
    "collapsed": false,
    "slideshow": {
     "slide_type": "subslide"
    }
   },
   "outputs": [],
   "source": [
    "% set_env DB_HOST 172.16.255.2\n",
    "% set_env DB_USER postgres\n",
    "% set_env DB_PASSWORD postgres\n",
    "% set_env DB_PORT 5432\n",
    "% set_env DB_NAME postgres\n",
    "\n",
    "from os import getenv"
   ]
  },
  {
   "cell_type": "markdown",
   "metadata": {
    "slideshow": {
     "slide_type": "subslide"
    }
   },
   "source": [
    "# Database libraries\n",
    "* Database API (https://www.python.org/dev/peps/pep-0249/)\n",
    "* More abstracted libraries\n",
    "* ORM"
   ]
  },
  {
   "cell_type": "markdown",
   "metadata": {
    "slideshow": {
     "slide_type": "slide"
    }
   },
   "source": [
    "# Code time!"
   ]
  },
  {
   "cell_type": "markdown",
   "metadata": {
    "slideshow": {
     "slide_type": "slide"
    }
   },
   "source": [
    "# Psycopg2\n",
    "## Postgres DB API for Python"
   ]
  },
  {
   "cell_type": "code",
   "execution_count": null,
   "metadata": {
    "collapsed": false,
    "slideshow": {
     "slide_type": "subslide"
    }
   },
   "outputs": [],
   "source": [
    "from psycopg2 import connect\n",
    "\n",
    "connection = connect(database=getenv('DB_NAME'), \n",
    "                     user=getenv('DB_USER'), \n",
    "                     password=getenv('DB_PASSWORD'), \n",
    "                     host=getenv('DB_HOST'), \n",
    "                     port=getenv('DB_PORT'))\n",
    "print(connection)\n",
    "\n",
    "cursor = connection.cursor()"
   ]
  },
  {
   "cell_type": "code",
   "execution_count": null,
   "metadata": {
    "collapsed": false,
    "slideshow": {
     "slide_type": "subslide"
    }
   },
   "outputs": [],
   "source": [
    "cursor.execute('''\n",
    "    CREATE TABLE trainer\n",
    "    (id INT PRIMARY KEY NOT NULL,\n",
    "    name TEXT,\n",
    "    username TEXT NOT NULL,\n",
    "    team TEXT);\n",
    "''')\n",
    "\n",
    "cursor.execute('''\n",
    "    INSERT INTO trainer (id, name, username, team) \n",
    "    VALUES (1, 'Betsy', 'betsybookworm', 'yellow');\n",
    "''')\n",
    "\n",
    "connection.commit()"
   ]
  },
  {
   "cell_type": "code",
   "execution_count": null,
   "metadata": {
    "collapsed": true,
    "slideshow": {
     "slide_type": "skip"
    }
   },
   "outputs": [],
   "source": [
    "# add books with loop"
   ]
  },
  {
   "cell_type": "code",
   "execution_count": null,
   "metadata": {
    "collapsed": false,
    "slideshow": {
     "slide_type": "subslide"
    }
   },
   "outputs": [],
   "source": [
    "cursor.execute(\"SELECT * FROM trainer;\")\n",
    "\n",
    "print('{} rows found'.format(cursor.rowcount))\n",
    "\n",
    "rows = cursor.fetchall()\n",
    "for row in rows:\n",
    "    print(row)"
   ]
  },
  {
   "cell_type": "code",
   "execution_count": null,
   "metadata": {
    "collapsed": false,
    "slideshow": {
     "slide_type": "subslide"
    }
   },
   "outputs": [],
   "source": [
    "connection.close()\n",
    "print(connection)"
   ]
  },
  {
   "cell_type": "markdown",
   "metadata": {
    "slideshow": {
     "slide_type": "slide"
    }
   },
   "source": [
    "## SQLAlchemy\n",
    "\n",
    "* ORM, session management etc\n",
    "* Can be used with a variety of databases, not just PostgreSQL\n",
    "* Uses database drivers such as psycopg2 in the background\n"
   ]
  },
  {
   "cell_type": "code",
   "execution_count": null,
   "metadata": {
    "collapsed": true,
    "slideshow": {
     "slide_type": "subslide"
    }
   },
   "outputs": [],
   "source": [
    "from sqlalchemy.ext.declarative import declarative_base\n",
    "from sqlalchemy import Column, Integer, Text, ForeignKey\n",
    "from sqlalchemy.orm import relationship"
   ]
  },
  {
   "cell_type": "code",
   "execution_count": null,
   "metadata": {
    "collapsed": false,
    "slideshow": {
     "slide_type": "subslide"
    }
   },
   "outputs": [],
   "source": [
    "MonsterBase = declarative_base()\n",
    "\n",
    "class MonsterType(MonsterBase):\n",
    "    __tablename__ = 'monster_type'\n",
    "    \n",
    "    id = Column(Integer, primary_key=True)\n",
    "    name = Column(Text, nullable=False)\n",
    "    monsters = relationship('PocketMonster', back_populates='type_')\n",
    "\n",
    "class PocketMonster(MonsterBase):\n",
    "    __tablename__ = 'pocket_monster'\n",
    "    \n",
    "    id = Column(Integer, primary_key=True)\n",
    "    name = Column(Text, nullable=False)\n",
    "    type_id = Column(Integer, ForeignKey('monster_type.id'), nullable=False)\n",
    "    type_ = relationship('MonsterType', back_populates='monsters')\n",
    "    \n",
    "    def __init__(self, name=None, type_=None):\n",
    "        \"\"\"\n",
    "        Add a new type of Pocket Monster\n",
    "        \n",
    "        :param name: What this monster is called\n",
    "        :type name: string\n",
    "        :param type_: What type of monster is it?\n",
    "        :type type_: MonsterType | int\n",
    "        \"\"\"\n",
    "        self.name = name   \n",
    "        self.type_id = type_.id if isinstance(type_, MonsterType) else type_\n",
    "    \n",
    "    def __repr__(self):\n",
    "        return 'PocketMonster<{name!s} ({type_!s})>'\\\n",
    "                .format(name=self.name, type_=self.type_.name)"
   ]
  },
  {
   "cell_type": "code",
   "execution_count": null,
   "metadata": {
    "collapsed": false,
    "slideshow": {
     "slide_type": "subslide"
    }
   },
   "outputs": [],
   "source": [
    "from sqlalchemy import create_engine\n",
    "from sqlalchemy.orm import sessionmaker\n",
    "\n",
    "engine = create_engine('postgresql+psycopg2://{username}:{password}@{host}:{port}/{database}'.format(\n",
    "            username=getenv('DB_USER'),\n",
    "            password=getenv('DB_PASSWORD'),\n",
    "            host=getenv('DB_HOST'),\n",
    "            port=getenv('DB_PORT'),\n",
    "            database=getenv('DB_NAME')\n",
    "        ))\n",
    "\n",
    "MonsterBase.metadata.create_all(engine)\n",
    "\n",
    "session_maker = sessionmaker(bind=engine)\n",
    "db_session = session_maker()\n",
    "\n",
    "print('Pocket Monsters!')\n",
    "print(db_session.query(PocketMonster).all())\n",
    "print(db_session.get_bind())"
   ]
  },
  {
   "cell_type": "code",
   "execution_count": null,
   "metadata": {
    "collapsed": false,
    "slideshow": {
     "slide_type": "subslide"
    }
   },
   "outputs": [],
   "source": [
    "# Monster types\n",
    "grass_type = MonsterType(name='Grass')\n",
    "lightning_type = MonsterType(name='Lightning')\n",
    "water_type = MonsterType(name='Water')\n",
    "\n",
    "db_session.add_all([grass_type, lightning_type, water_type])\n",
    "\n",
    "db_session.commit()\n",
    "\n",
    "# Monsters!\n",
    "flowerasaur = PocketMonster(name='Flowerasaur', type_=grass_type)\n",
    "chooseachu = PocketMonster(name='Chooseachu', type_=lightning_type)\n",
    "splashle = PocketMonster(name='Splashle', type_=water_type)\n",
    "magiflop = PocketMonster(name='Magiflop', type_=water_type)\n",
    "\n",
    "db_session.add_all([flowerasaur, chooseachu, splashle, magiflop])\n",
    "\n",
    "db_session.commit()"
   ]
  },
  {
   "cell_type": "code",
   "execution_count": null,
   "metadata": {
    "collapsed": false,
    "slideshow": {
     "slide_type": "subslide"
    }
   },
   "outputs": [],
   "source": [
    "print(chooseachu)\n",
    "\n",
    "print(chooseachu.type_.name)"
   ]
  },
  {
   "cell_type": "code",
   "execution_count": null,
   "metadata": {
    "collapsed": false,
    "slideshow": {
     "slide_type": "subslide"
    }
   },
   "outputs": [],
   "source": [
    "query = db_session.query(PocketMonster)\\\n",
    "                  .filter(PocketMonster.type_id == MonsterType.id, \n",
    "                          MonsterType.name == 'Grass')\n",
    "    \n",
    "print(query.statement)\n",
    "print('---')\n",
    "print(query.all())"
   ]
  },
  {
   "cell_type": "code",
   "execution_count": null,
   "metadata": {
    "collapsed": true,
    "slideshow": {
     "slide_type": "subslide"
    }
   },
   "outputs": [],
   "source": [
    "db_session.close()"
   ]
  },
  {
   "cell_type": "markdown",
   "metadata": {
    "slideshow": {
     "slide_type": "slide"
    }
   },
   "source": [
    "# You can write nice things too"
   ]
  },
  {
   "cell_type": "code",
   "execution_count": null,
   "metadata": {
    "collapsed": false,
    "slideshow": {
     "slide_type": "subslide"
    }
   },
   "outputs": [],
   "source": [
    "from sqlalchemy import create_engine\n",
    "from sqlalchemy.orm import sessionmaker\n",
    "\n",
    "class SessionManager(object):\n",
    "    \"\"\"\n",
    "    Creates engines and sessions for SQLAlchemy ORM\n",
    "    \"\"\"\n",
    "    def __init__(self, host=None, port=None, user=None, password=None, \n",
    "                 database=None):\n",
    "        self.engine = create_engine(\n",
    "            'postgresql+psycopg2://{username}:{password}@{host}:{port}/{database}'.format(\n",
    "                username=user,\n",
    "                password=password,\n",
    "                host=host,\n",
    "                port=port,\n",
    "                database=database)\n",
    "        )\n",
    "        \n",
    "        self._sessionmaker = sessionmaker(bind=self.engine\n",
    "                                         )  \n",
    "    def __enter__(self):\n",
    "        \"\"\"\n",
    "        :return: Database session\n",
    "        :rtype: sqlalchemy.orm.session.Session\n",
    "        \"\"\"\n",
    "        self._session = self._sessionmaker()\n",
    "        return self._session\n",
    "    \n",
    "    def __exit__(self, *args):\n",
    "        # Could catch exceptions and rollback etc\n",
    "        self._session.commit()\n",
    "        self._session.close()"
   ]
  },
  {
   "cell_type": "code",
   "execution_count": null,
   "metadata": {
    "collapsed": true,
    "slideshow": {
     "slide_type": "subslide"
    }
   },
   "outputs": [],
   "source": [
    "monster_sessions = SessionManager(\n",
    "    host=getenv('DB_HOST'),\n",
    "    user=getenv('DB_USER'),\n",
    "    password=getenv('DB_PASSWORD'),\n",
    "    port=getenv('DB_PORT'),\n",
    "    database=getenv('DB_NAME')\n",
    ")"
   ]
  },
  {
   "cell_type": "code",
   "execution_count": null,
   "metadata": {
    "collapsed": false,
    "slideshow": {
     "slide_type": "subslide"
    }
   },
   "outputs": [],
   "source": [
    "with monster_sessions as session:\n",
    "    monsters = session.query(PocketMonster).all()\n",
    "    print(monsters)"
   ]
  },
  {
   "cell_type": "code",
   "execution_count": null,
   "metadata": {
    "collapsed": false,
    "slideshow": {
     "slide_type": "subslide"
    }
   },
   "outputs": [],
   "source": [
    "with monster_sessions as session:\n",
    "    all_types = session.query(MonsterType).all()\n",
    "    \n",
    "    for monster_type in all_types:\n",
    "        print('{} Monsters:'.format(monster_type.name))\n",
    "        \n",
    "        for monster in monster_type.monsters:\n",
    "            print('* {}'.format(monster.name))"
   ]
  },
  {
   "cell_type": "markdown",
   "metadata": {
    "slideshow": {
     "slide_type": "fragment"
    }
   },
   "source": [
    "These examples based on code at: github.com/betsybookwyrm/python-cafe-sqlalchemy"
   ]
  },
  {
   "cell_type": "markdown",
   "metadata": {
    "slideshow": {
     "slide_type": "slide"
    }
   },
   "source": [
    "# Let's break things"
   ]
  },
  {
   "cell_type": "code",
   "execution_count": null,
   "metadata": {
    "collapsed": false,
    "slideshow": {
     "slide_type": "subslide"
    }
   },
   "outputs": [],
   "source": [
    "from psycopg2 import connect, ProgrammingError\n",
    "\n",
    "# Back to psycopg2\n",
    "connection = connect(database=getenv('DB_NAME'), \n",
    "                     user=getenv('DB_USER'), \n",
    "                     password=getenv('DB_PASSWORD'), \n",
    "                     host=getenv('DB_HOST'), \n",
    "                     port=getenv('DB_PORT'))\n",
    "\n",
    "cursor = connection.cursor()\n",
    "\n",
    "\n",
    "cursor.execute(\"\"\"SELECT * FROM trainers;\"\"\")"
   ]
  },
  {
   "cell_type": "code",
   "execution_count": null,
   "metadata": {
    "collapsed": false,
    "slideshow": {
     "slide_type": "subslide"
    }
   },
   "outputs": [],
   "source": [
    "session.rollback()\n",
    "cursor.execute(\"\"\"SELECT * FROM trainer;\"\"\")"
   ]
  },
  {
   "cell_type": "code",
   "execution_count": null,
   "metadata": {
    "collapsed": true,
    "slideshow": {
     "slide_type": "subslide"
    }
   },
   "outputs": [],
   "source": [
    "session.close()"
   ]
  },
  {
   "cell_type": "code",
   "execution_count": null,
   "metadata": {
    "collapsed": false,
    "scrolled": true,
    "slideshow": {
     "slide_type": "subslide"
    }
   },
   "outputs": [],
   "source": [
    "with monster_sessions as session:\n",
    "    monster = session.query(PocketMonster).first()\n",
    "\n",
    "print(monster)"
   ]
  },
  {
   "cell_type": "code",
   "execution_count": null,
   "metadata": {
    "collapsed": false,
    "scrolled": true,
    "slideshow": {
     "slide_type": "skip"
    }
   },
   "outputs": [],
   "source": [
    "dangerous_sessions = SessionManager(\n",
    "    host=getenv('DB_HOST'),\n",
    "    user=getenv('DB_USER'),\n",
    "    password=getenv('DB_PASSWORD'),\n",
    "    port=getenv('DB_PORT'),\n",
    "    database=getenv('DB_NAME'),\n",
    "    expire_on_commit=False\n",
    ")\n",
    "\n",
    "with dangerous_sessions as session:\n",
    "    monster2 = session.query(PocketMonster)\\\n",
    "                     .filter(PocketMonster.name == 'Chooseachu')\\\n",
    "                     .one()\n",
    "    \n",
    "print(monster2)"
   ]
  },
  {
   "cell_type": "code",
   "execution_count": null,
   "metadata": {
    "collapsed": true,
    "slideshow": {
     "slide_type": "skip"
    }
   },
   "outputs": [],
   "source": [
    "class Strength(MonsterBase):\n",
    "    id = Column(Integer, primary_key=True)\n",
    "    type_id = Column(Integer, ForeignKey('MonsterType.id'), nullable=False)\n",
    "    strong_against_id = Column(Integer, ForeignKey('MonsterType.id'), nullable=False)"
   ]
  },
  {
   "cell_type": "markdown",
   "metadata": {
    "slideshow": {
     "slide_type": "slide"
    }
   },
   "source": [
    "# What about weirder situations?\n",
    "## Concurrency! Ascynchronous messes!"
   ]
  },
  {
   "cell_type": "markdown",
   "metadata": {
    "slideshow": {
     "slide_type": "subslide"
    }
   },
   "source": [
    "## Concurrency\n",
    "* Been well discussed for a long time\n",
    "* Databases generally are designed for concurrency\n",
    "* The languages and libraries you're using may not be designed for concurrency..."
   ]
  },
  {
   "cell_type": "markdown",
   "metadata": {
    "slideshow": {
     "slide_type": "subslide"
    }
   },
   "source": [
    "## Async funtimes\n",
    "* (often concurrency)\n",
    "* EVERYTHING is async now (whether it should be or not)\n",
    "* Some database libraries can handle it, many can't, few are designed specifically for it"
   ]
  },
  {
   "cell_type": "markdown",
   "metadata": {
    "slideshow": {
     "slide_type": "subslide"
    }
   },
   "source": [
    "### Python async database funtimes\n",
    "* psycopg2 can actually handle it! Most of the others can't\n",
    "* (Python 2.7) twisted + sqlalchemy + psycopg2 works fine as long as you keep your sessions untangled\n",
    "* aiopg: pycopg2 / asyncio library\n",
    "* asyncpg: fancy new thing with cool blog post, for use with asyncio, high speed, high scale"
   ]
  },
  {
   "cell_type": "markdown",
   "metadata": {
    "slideshow": {
     "slide_type": "skip"
    }
   },
   "source": [
    "# aiopg"
   ]
  },
  {
   "cell_type": "markdown",
   "metadata": {
    "slideshow": {
     "slide_type": "slide"
    }
   },
   "source": [
    "# asyncpg\n",
    "A speedy example"
   ]
  },
  {
   "cell_type": "code",
   "execution_count": null,
   "metadata": {
    "collapsed": false,
    "scrolled": true,
    "slideshow": {
     "slide_type": "subslide"
    }
   },
   "outputs": [],
   "source": [
    "import asyncio\n",
    "import asyncpg\n",
    "\n",
    "\n",
    "async def find_monsters(pool):\n",
    "    \"\"\"\n",
    "    Finds monsters! Any monsters, anywhere!\n",
    "    \n",
    "    :param pool: Database connection pool\n",
    "    :type pool: asyncpg.pool.Pool\n",
    "    \"\"\"\n",
    "    print('Looking for monsters...')\n",
    "    await asyncio.sleep(3)\n",
    "\n",
    "    async with pool.acquire() as connection:\n",
    "        async with connection.transaction():\n",
    "            print('Database transaction started')\n",
    "            monsters = await connection.fetch('''\n",
    "                SELECT pocket_monster.name, monster_type.name\n",
    "                FROM pocket_monster, monster_type\n",
    "                WHERE pocket_monster.type_id = monster_type.id''')\n",
    "            for monster_name, monster_type_name in monsters:\n",
    "                print('I found {} ({} type)!'\\\n",
    "                      .format(monster_name, monster_type_name))"
   ]
  },
  {
   "cell_type": "code",
   "execution_count": null,
   "metadata": {
    "collapsed": false,
    "slideshow": {
     "slide_type": "subslide"
    }
   },
   "outputs": [],
   "source": [
    "async def is_it_ready_yet(times=5):\n",
    "    for _ in range(times):\n",
    "        await asyncio.sleep(1)\n",
    "        print('Is it ready yet?')\n",
    "\n",
    "\n",
    "async def monster_walk():\n",
    "    print('Waiting for connection pool...')\n",
    "    pool = await asyncpg.create_pool(\n",
    "        host=getenv('DB_HOST'),\n",
    "        user=getenv('DB_USER'),\n",
    "        password=getenv('DB_PASSWORD'),\n",
    "        port=getenv('DB_PORT'),\n",
    "        database=getenv('DB_NAME')\n",
    "    )\n",
    "    print('Connection pool ready')\n",
    "    \n",
    "    await asyncio.wait([find_monsters(pool), is_it_ready_yet()])"
   ]
  },
  {
   "cell_type": "code",
   "execution_count": null,
   "metadata": {
    "collapsed": false,
    "slideshow": {
     "slide_type": "subslide"
    }
   },
   "outputs": [],
   "source": [
    "loop = asyncio.get_event_loop()\n",
    "loop.run_until_complete(monster_walk())"
   ]
  },
  {
   "cell_type": "markdown",
   "metadata": {
    "slideshow": {
     "slide_type": "slide"
    }
   },
   "source": [
    "# What happens when things change?\n",
    "## Database migrations\n",
    "In python:\n",
    "* Alembic for SQLAlchemy\n",
    "* Django migrations (how many?)\n",
    "* Lots more\n",
    "\n",
    "Use it from the beginning, because the only thing that's certain is that everything changes"
   ]
  },
  {
   "cell_type": "markdown",
   "metadata": {
    "slideshow": {
     "slide_type": "slide"
    }
   },
   "source": [
    "# connection.close()\n",
    "\n",
    "The short version: Don't Panic! You'll be fine as long as you always know where your sessions are.\n",
    "\n",
    "Thank you :)\n",
    "\n",
    "@betsybookworm"
   ]
  }
 ],
 "metadata": {
  "anaconda-cloud": {},
  "celltoolbar": "Slideshow",
  "kernelspec": {
   "display_name": "Python [conda env:dbtalk]",
   "language": "python",
   "name": "conda-env-dbtalk-py"
  },
  "language_info": {
   "codemirror_mode": {
    "name": "ipython",
    "version": 3
   },
   "file_extension": ".py",
   "mimetype": "text/x-python",
   "name": "python",
   "nbconvert_exporter": "python",
   "pygments_lexer": "ipython3",
   "version": "3.5.2"
  },
  "nbpresent": {
   "slides": {
    "2e7a59f9-b61f-497c-a40e-50a5b4c2a4cb": {
     "id": "2e7a59f9-b61f-497c-a40e-50a5b4c2a4cb",
     "layout": "grid",
     "prev": null,
     "regions": {
      "f0e80501-e54a-401d-b13e-2d64751eb39b": {
       "attrs": {
        "height": 0.8333333333333334,
        "pad": 0.01,
        "width": 0.8333333333333334,
        "x": 0.08333333333333333,
        "y": 0.08333333333333333
       },
       "content": {
        "cell": "d5a2a550-211c-4c3f-a7e0-4fa375b7d420",
        "part": "whole"
       },
       "id": "f0e80501-e54a-401d-b13e-2d64751eb39b"
      }
     }
    },
    "b7589f86-d4e5-4457-b134-c1e0a7219fa8": {
     "id": "b7589f86-d4e5-4457-b134-c1e0a7219fa8",
     "prev": "dcacbd45-104e-407d-8b28-e5da72a58044",
     "regions": {
      "703ac3a2-ac63-42df-bd51-cf66c9d27839": {
       "attrs": {
        "height": 1,
        "width": 1,
        "x": 0,
        "y": 0
       },
       "content": {
        "cell": "23578182-70a4-45d3-b48f-b05cdda95ffd",
        "part": "source"
       },
       "id": "703ac3a2-ac63-42df-bd51-cf66c9d27839"
      }
     }
    },
    "dcacbd45-104e-407d-8b28-e5da72a58044": {
     "id": "dcacbd45-104e-407d-8b28-e5da72a58044",
     "prev": "2e7a59f9-b61f-497c-a40e-50a5b4c2a4cb",
     "regions": {
      "f6972783-3c83-4e99-9f36-8865e565803c": {
       "attrs": {
        "height": 1,
        "width": 1,
        "x": 0,
        "y": 0
       },
       "content": {
        "cell": "7306324c-b4e5-4949-9a6c-6653b4b80414",
        "part": "whole"
       },
       "id": "f6972783-3c83-4e99-9f36-8865e565803c"
      }
     }
    }
   },
   "themes": {}
  }
 },
 "nbformat": 4,
 "nbformat_minor": 1
}
